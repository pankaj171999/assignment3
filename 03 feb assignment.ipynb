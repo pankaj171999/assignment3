{
 "cells": [
  {
   "cell_type": "code",
   "execution_count": 10,
   "id": "c125ce54-013f-4d4c-af18-c0e61170302a",
   "metadata": {},
   "outputs": [],
   "source": [
    "#Q1(Ans)\n",
    "# 'def' keyword is used to create function\n",
    "def function():\n",
    "    l2=[]\n",
    "    list(range(1,26))\n",
    "    for i in range(1,26):\n",
    "         if i%2!=0 :\n",
    "            l2.append(i)\n",
    "    print(l2)       \n",
    "         "
   ]
  },
  {
   "cell_type": "code",
   "execution_count": 11,
   "id": "5c889d03-dcd1-4abd-9a9d-e787be3dc91d",
   "metadata": {},
   "outputs": [
    {
     "name": "stdout",
     "output_type": "stream",
     "text": [
      "[1, 3, 5, 7, 9, 11, 13, 15, 17, 19, 21, 23, 25]\n"
     ]
    }
   ],
   "source": [
    "function()"
   ]
  },
  {
   "cell_type": "code",
   "execution_count": 29,
   "id": "e9ae64cc-e0bf-47a0-b886-b61d65330ab4",
   "metadata": {},
   "outputs": [],
   "source": [
    "#Q2(Ans)\n",
    "\"\"\"*args allows us to pass a variable number of non keyword arguments to a python function, \n",
    "In the function,we should use an asterise(*) before the parameter name to pass a variable number of argument.\"\"\"\n",
    "#example\n",
    "def add(*args):\n",
    "    return (args,type(args))\n",
    "def add1(*args):\n",
    "    return args"
   ]
  },
  {
   "cell_type": "code",
   "execution_count": 30,
   "id": "992b2a6a-b96f-4ce1-9270-fb747ebfb0a4",
   "metadata": {},
   "outputs": [
    {
     "data": {
      "text/plain": [
       "((2, 3), tuple)"
      ]
     },
     "execution_count": 30,
     "metadata": {},
     "output_type": "execute_result"
    }
   ],
   "source": [
    "add(2,3)\n"
   ]
  },
  {
   "cell_type": "code",
   "execution_count": 25,
   "id": "5cffe15c-a5d5-4c5e-8984-11aaf00c52ab",
   "metadata": {},
   "outputs": [
    {
     "data": {
      "text/plain": [
       "(2, 3, 4)"
      ]
     },
     "execution_count": 25,
     "metadata": {},
     "output_type": "execute_result"
    }
   ],
   "source": [
    "add(2,3,4)"
   ]
  },
  {
   "cell_type": "code",
   "execution_count": 26,
   "id": "70e22ccd-ffc1-4b75-bdbd-4a5cd1fb1037",
   "metadata": {},
   "outputs": [],
   "source": [
    "\"\"\"**kwargs allows us to pass a variable number of keyboard agrument to a python function.\n",
    "In the functiom ,we use the double-asterisk(**)before the parameter name to denote this type of arguments\"\"\"\n",
    "#example\n",
    "def total_fruits(**kwargs):\n",
    "    print(kwargs ,type(kwargs))"
   ]
  },
  {
   "cell_type": "code",
   "execution_count": 28,
   "id": "944a9082-5595-4797-87ae-99bbfaa6bc23",
   "metadata": {},
   "outputs": [
    {
     "name": "stdout",
     "output_type": "stream",
     "text": [
      "{'banana': 5, 'mango': 7, 'apple': 8} <class 'dict'>\n"
     ]
    }
   ],
   "source": [
    "total_fruits(banana=5,mango=7,apple=8)"
   ]
  },
  {
   "cell_type": "code",
   "execution_count": 31,
   "id": "64f4e40f-3ca1-4c7f-ab79-c17def686b3d",
   "metadata": {},
   "outputs": [],
   "source": [
    "#Q3(Ans)\n",
    "\"\"\"Iterator in Python is an object that is used to iterate over iterable objects like lists, tuples, dicts, and sets.\n",
    "The iterator object is initialized using the iter() method. It uses the next() method for iteration.\"\"\"\n",
    "list=[2,4,6,8,10,12,14,16,18,20]\n",
    "l1=iter(list)"
   ]
  },
  {
   "cell_type": "code",
   "execution_count": 32,
   "id": "9659b73f-1edc-4c7f-beda-77748b6d7df4",
   "metadata": {},
   "outputs": [
    {
     "data": {
      "text/plain": [
       "2"
      ]
     },
     "execution_count": 32,
     "metadata": {},
     "output_type": "execute_result"
    }
   ],
   "source": [
    "next(l1)"
   ]
  },
  {
   "cell_type": "code",
   "execution_count": 33,
   "id": "fe563cc7-059e-4ffe-94b0-73e9c142e02f",
   "metadata": {},
   "outputs": [
    {
     "data": {
      "text/plain": [
       "4"
      ]
     },
     "execution_count": 33,
     "metadata": {},
     "output_type": "execute_result"
    }
   ],
   "source": [
    "next(l1)"
   ]
  },
  {
   "cell_type": "code",
   "execution_count": 34,
   "id": "55677cee-74de-4d25-a5e9-9f020eba46fd",
   "metadata": {},
   "outputs": [
    {
     "data": {
      "text/plain": [
       "6"
      ]
     },
     "execution_count": 34,
     "metadata": {},
     "output_type": "execute_result"
    }
   ],
   "source": [
    "next(l1)"
   ]
  },
  {
   "cell_type": "code",
   "execution_count": 35,
   "id": "e9da50ec-563a-45dc-ac5b-86e4cc80f7ae",
   "metadata": {},
   "outputs": [
    {
     "data": {
      "text/plain": [
       "8"
      ]
     },
     "execution_count": 35,
     "metadata": {},
     "output_type": "execute_result"
    }
   ],
   "source": [
    "next(l1)"
   ]
  },
  {
   "cell_type": "code",
   "execution_count": 36,
   "id": "110ded9f-d43c-4105-bc43-40b3549c959f",
   "metadata": {},
   "outputs": [
    {
     "data": {
      "text/plain": [
       "10"
      ]
     },
     "execution_count": 36,
     "metadata": {},
     "output_type": "execute_result"
    }
   ],
   "source": [
    "next(l1)"
   ]
  },
  {
   "cell_type": "code",
   "execution_count": 9,
   "id": "22d92eec-2935-40bf-8e4f-5ee9a78833ba",
   "metadata": {},
   "outputs": [],
   "source": [
    "#Q4(Ans)\n",
    "\"\"\"A generator-function is defined like a normal function, but whenever it needs to generate a value, it does so with the yield keyword rather than return. \n",
    "If the body of a def contains yield, the function automatically becomes a generator function.\n",
    "yield keyword is used to create a generator function. A type of function that is memory efficient and can be used like an iterator object.\"\"\"\n",
    "#example\n",
    "def test_fib1():\n",
    "    a,b=0,1\n",
    "    while True:\n",
    "        yield a\n",
    "        a,b=b,a+b\n"
   ]
  },
  {
   "cell_type": "code",
   "execution_count": 10,
   "id": "046d1e1e-02d1-4304-8f7b-4b705017e7f0",
   "metadata": {},
   "outputs": [],
   "source": [
    "fib=test_fib1()"
   ]
  },
  {
   "cell_type": "code",
   "execution_count": 11,
   "id": "e1418619-14ce-41ed-8b27-1a549366ec59",
   "metadata": {},
   "outputs": [
    {
     "name": "stdout",
     "output_type": "stream",
     "text": [
      "0 1 1 2 3 5 8 13 21 34 "
     ]
    }
   ],
   "source": [
    "for i in range(10):\n",
    "    print(next(fib),end=' ')"
   ]
  },
  {
   "cell_type": "code",
   "execution_count": 7,
   "id": "4f702dea-c839-4c3a-a1e1-b4a322c1f77a",
   "metadata": {},
   "outputs": [
    {
     "name": "stdout",
     "output_type": "stream",
     "text": [
      "2 3 5 7 11 13 17 19 23 29 31 37 41 43 47 53 59 61 67 71 "
     ]
    }
   ],
   "source": [
    "#Q5(Ans)\n",
    "def prime_number(num):\n",
    "        for i in range(2,num):\n",
    "            if num%i==0:\n",
    "                return False\n",
    "        return True\n",
    "def primeGenerator(n):\n",
    "    num=2\n",
    "    while n:\n",
    "        if prime_number(num):\n",
    "            yield num\n",
    "            n-=1\n",
    "        num+=1\n",
    "    return\n",
    "a=primeGenerator(20)\n",
    "for e in a:\n",
    "    print(e,end=' ')\n",
    "            "
   ]
  },
  {
   "cell_type": "code",
   "execution_count": 57,
   "id": "8430f759-c792-43ad-9401-7a28a7a8eb23",
   "metadata": {},
   "outputs": [
    {
     "name": "stdout",
     "output_type": "stream",
     "text": [
      "0\n",
      "1\n",
      "1\n",
      "2\n",
      "3\n",
      "5\n",
      "8\n",
      "13\n",
      "21\n",
      "34\n"
     ]
    }
   ],
   "source": [
    "#Q6(Ans)\n",
    "def test_fib1():\n",
    "    a,b=0,1\n",
    "    while True:\n",
    "        yield a\n",
    "        a,b=b,a+b\n",
    "fib=test_fib1()\n",
    "for i in range(10):\n",
    "    print(next(fib),end=)\n"
   ]
  },
  {
   "cell_type": "code",
   "execution_count": 61,
   "id": "aaf074f5-440e-414d-bdfb-99565511f7a0",
   "metadata": {},
   "outputs": [
    {
     "data": {
      "text/plain": [
       "['p', 'w', 's', 'k', 'i', 'l', 'l', 's']"
      ]
     },
     "execution_count": 61,
     "metadata": {},
     "output_type": "execute_result"
    }
   ],
   "source": [
    "#Q7(ans)\n",
    "string=\"pwskills\"\n",
    "s=iter(string)\n",
    "[i for i in s]"
   ]
  },
  {
   "cell_type": "code",
   "execution_count": 74,
   "id": "a051ed33-b2d9-4a3c-a9c8-ff60e25546c6",
   "metadata": {},
   "outputs": [
    {
     "name": "stdout",
     "output_type": "stream",
     "text": [
      "Palindrome\n"
     ]
    }
   ],
   "source": [
    "#Q8(Ans)\n",
    "num = 1221\n",
    "temp = num\n",
    "reverse = 0\n",
    "while temp > 0:\n",
    "    remainder = temp % 10\n",
    "    reverse = (reverse * 10) + remainder\n",
    "    temp = temp // 10\n",
    "if num == reverse:\n",
    "  print('Palindrome')\n",
    "else:\n",
    "  print(\"Not Palindrome\")"
   ]
  },
  {
   "cell_type": "code",
   "execution_count": 98,
   "id": "614d7902-1f9e-4444-b905-d46964c44b61",
   "metadata": {},
   "outputs": [
    {
     "data": {
      "text/plain": [
       "[1,\n",
       " 3,\n",
       " 5,\n",
       " 7,\n",
       " 9,\n",
       " 11,\n",
       " 13,\n",
       " 15,\n",
       " 17,\n",
       " 19,\n",
       " 21,\n",
       " 23,\n",
       " 25,\n",
       " 27,\n",
       " 29,\n",
       " 31,\n",
       " 33,\n",
       " 35,\n",
       " 37,\n",
       " 39,\n",
       " 41,\n",
       " 43,\n",
       " 45,\n",
       " 47,\n",
       " 49,\n",
       " 51,\n",
       " 53,\n",
       " 55,\n",
       " 57,\n",
       " 59,\n",
       " 61,\n",
       " 63,\n",
       " 65,\n",
       " 67,\n",
       " 69,\n",
       " 71,\n",
       " 73,\n",
       " 75,\n",
       " 77,\n",
       " 79,\n",
       " 81,\n",
       " 83,\n",
       " 85,\n",
       " 87,\n",
       " 89,\n",
       " 91,\n",
       " 93,\n",
       " 95,\n",
       " 97,\n",
       " 99]"
      ]
     },
     "execution_count": 98,
     "metadata": {},
     "output_type": "execute_result"
    }
   ],
   "source": [
    "#Q9(Ans)\n",
    "[i for i in range(1,101) if i%2!=0]"
   ]
  },
  {
   "cell_type": "code",
   "execution_count": null,
   "id": "281eb5f8-87b5-4bc3-a5c0-f57884160b6c",
   "metadata": {},
   "outputs": [],
   "source": []
  }
 ],
 "metadata": {
  "kernelspec": {
   "display_name": "Python 3 (ipykernel)",
   "language": "python",
   "name": "python3"
  },
  "language_info": {
   "codemirror_mode": {
    "name": "ipython",
    "version": 3
   },
   "file_extension": ".py",
   "mimetype": "text/x-python",
   "name": "python",
   "nbconvert_exporter": "python",
   "pygments_lexer": "ipython3",
   "version": "3.10.8"
  }
 },
 "nbformat": 4,
 "nbformat_minor": 5
}
